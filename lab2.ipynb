{
 "cells": [
  {
   "cell_type": "code",
   "execution_count": null,
   "id": "1b37e5d0-6122-4cd0-a8cb-8be30f4be8b9",
   "metadata": {},
   "outputs": [],
   "source": [
    "#view data\n",
    "import warnings\n",
    "warnings.simplefilter('ignore')\n",
    "\n",
    "import pandas as pd\n",
    "\n",
    "df = pd.read_csv('s3://ia-340-2025-fall-monsenca/Motor_Vehicle_Collisions_-_Crashes.csv.crdownload') # load the data from s3\n",
    "df.head() #show the top 5 rows"
   ]
  },
  {
   "cell_type": "code",
   "execution_count": null,
   "id": "8f6ebd0f-f408-42a3-82ae-5bae3cc85bb9",
   "metadata": {},
   "outputs": [],
   "source": [
    "# A. I used head to view my data so it shows the first 5 rows. There are 5 rows and 29 columns. There are both numeric and text columns. As a first impression, I see a lot of missing values in several different columns so those will need to be handled."
   ]
  },
  {
   "cell_type": "code",
   "execution_count": null,
   "id": "fb163955-8bc6-45d1-8f63-4f35374ff708",
   "metadata": {},
   "outputs": [],
   "source": [
    "df.shape"
   ]
  },
  {
   "cell_type": "code",
   "execution_count": null,
   "id": "cb6116e7-14aa-4749-8d19-d0be75bbebd8",
   "metadata": {},
   "outputs": [],
   "source": [
    "#rename columns\n",
    "df = df.rename(columns={\"CRASH DATE\": \"Date\"})\n",
    "df.head()"
   ]
  },
  {
   "cell_type": "code",
   "execution_count": null,
   "id": "f6ea79b6-475c-44d2-9f98-15c8f695e26a",
   "metadata": {},
   "outputs": [],
   "source": [
    "df.isnull().sum()"
   ]
  },
  {
   "cell_type": "code",
   "execution_count": null,
   "id": "1ef3cbe5-8926-4d76-8817-2821e2fc53ee",
   "metadata": {},
   "outputs": [],
   "source": [
    "df = df[['Date', 'CRASH TIME', 'BOROUGH', 'ZIP CODE', 'LATITUDE', 'LONGITUDE', 'ON STREET NAME', 'CROSS STREET NAME', 'OFF STREET NAME', 'NUMBER OF PERSONS INJURED', 'NUMBER OF PERSONS KILLED', 'NUMBER OF PEDESTRIANS INJURED', 'NUMBER OF PEDESTRIANS KILLED', 'NUMBER OF CYCLIST INJURED', 'NUMBER OF CYCLIST KILLED', 'NUMBER OF MOTORIST INJURED', 'NUMBER OF MOTORIST KILLED', 'CONTRIBUTING FACTOR VEHICLE 1', 'CONTRIBUTING FACTOR VEHICLE 2', 'COLLISION_ID', 'VEHICLE TYPE CODE 1', 'VEHICLE TYPE CODE 2']] "
   ]
  },
  {
   "cell_type": "code",
   "execution_count": null,
   "id": "76e7e57f-efcb-4d60-8254-6d0dfca54023",
   "metadata": {},
   "outputs": [],
   "source": [
    "df.isnull().sum()"
   ]
  },
  {
   "cell_type": "code",
   "execution_count": null,
   "id": "8fa5b9b3-57af-4100-b7ad-1d529c9381fe",
   "metadata": {},
   "outputs": [],
   "source": [
    "df.isnull().sum()"
   ]
  },
  {
   "cell_type": "code",
   "execution_count": null,
   "id": "412eece4-06a9-4f45-891a-5291bdabb41c",
   "metadata": {},
   "outputs": [],
   "source": [
    "# B. I renamed the CRASH DATE column to Date to shorten it. There were thousands of missig values. In some columns there were almost as many missing values as values so I did not drop them as that would have deleted the entire table."
   ]
  },
  {
   "cell_type": "code",
   "execution_count": null,
   "id": "d53cee70-5f5a-4c76-937f-ee2160aa6e0e",
   "metadata": {},
   "outputs": [],
   "source": [
    "df['LONGITUDE']"
   ]
  },
  {
   "cell_type": "code",
   "execution_count": null,
   "id": "226c9b30-5291-4d48-845e-1d6a8cdeab31",
   "metadata": {},
   "outputs": [],
   "source": [
    "sorted_df = df.sort_values(by=\"LONGITUDE\")\n",
    "display(sorted_df)"
   ]
  },
  {
   "cell_type": "code",
   "execution_count": null,
   "id": "0b310dd4-5607-461f-b115-70145b43508d",
   "metadata": {},
   "outputs": [],
   "source": [
    "display(sorted_df.iloc[5:10])"
   ]
  },
  {
   "cell_type": "code",
   "execution_count": null,
   "id": "b8b5beb2-b9d5-471d-97ee-cb0ed66dfe81",
   "metadata": {},
   "outputs": [],
   "source": [
    "sorted_filtered = df.sort_values(by=\"LONGITUDE\")\n",
    "display(sorted_filtered[sorted_filtered[\"LONGITUDE\"] > -50])"
   ]
  },
  {
   "cell_type": "code",
   "execution_count": null,
   "id": "7e97eabc-0420-431f-9e09-c07f0835eb68",
   "metadata": {},
   "outputs": [],
   "source": [
    "#C. I selected and sorted the longitude column in order to put the variable in more of a locational order. I then filtered the same column in order to show only crashes that happened on a certain longitudinal point."
   ]
  },
  {
   "cell_type": "code",
   "execution_count": null,
   "id": "1b4fb307-c42d-4502-9995-7f4895949a8a",
   "metadata": {},
   "outputs": [],
   "source": [
    "crash_summary = df.groupby([\"CRASH TIME\", \"BOROUGH\"]).size().reset_index(name=\"count\")\n",
    "print(crash_summary.head())"
   ]
  },
  {
   "cell_type": "code",
   "execution_count": null,
   "id": "76d4f78a-76ac-489e-8cec-473ced29d849",
   "metadata": {},
   "outputs": [],
   "source": [
    "crash_summary.groupby(\"BOROUGH\")[\"count\"].sum().plot(\n",
    "    kind=\"bar\",\n",
    "    title=\"Total Crashes by Borough\",\n",
    "    ylabel=\"Number of Crashes\",\n",
    "    xlabel=\"Borough\"\n",
    ")"
   ]
  },
  {
   "cell_type": "code",
   "execution_count": null,
   "id": "129d8d54-fe65-4271-9beb-0f51d8b62387",
   "metadata": {},
   "outputs": [],
   "source": [
    "crash_summary.groupby(\"BOROUGH\")[\"count\"].sum().plot(\n",
    "    kind=\"line\",\n",
    "    title=\"Total Crashes by Borough\",\n",
    "    ylabel=\"Number of Crashes\",\n",
    "    xlabel=\"Borough\"\n",
    ")"
   ]
  },
  {
   "cell_type": "code",
   "execution_count": null,
   "id": "0603fc06-080f-48d2-8b08-09c25d25d43e",
   "metadata": {},
   "outputs": [],
   "source": [
    "#D. For plot 1 I used a bar chart to show how many crashes happened in each borough in this time period. It is a straight forward chart that shows Brooklyn leading in crashes by far. Staten Island has the least amount opf crashes, being more than 3 time lower than the secon lowest Borough (Bronx)."
   ]
  },
  {
   "cell_type": "code",
   "execution_count": 78,
   "id": "757366c1-eaa5-4c83-853b-27111f760622",
   "metadata": {},
   "outputs": [],
   "source": [
    "#D. For plot 2 I used the same data in a line graph in order to better show the relation of the boroughs rather than just the totals. Now the data gives a better representation of how the Boroughs differ in crash amounts."
   ]
  },
  {
   "cell_type": "code",
   "execution_count": null,
   "id": "33f4d863-c89a-44e7-8925-99d9dd3fa32b",
   "metadata": {},
   "outputs": [],
   "source": []
  }
 ],
 "metadata": {
  "kernelspec": {
   "display_name": "conda_pytorch_p310",
   "language": "python",
   "name": "conda_pytorch_p310"
  },
  "language_info": {
   "codemirror_mode": {
    "name": "ipython",
    "version": 3
   },
   "file_extension": ".py",
   "mimetype": "text/x-python",
   "name": "python",
   "nbconvert_exporter": "python",
   "pygments_lexer": "ipython3",
   "version": "3.10.18"
  }
 },
 "nbformat": 4,
 "nbformat_minor": 5
}
